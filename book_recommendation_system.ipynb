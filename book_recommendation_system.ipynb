{
 "cells": [
  {
   "cell_type": "code",
   "execution_count": 13,
   "metadata": {},
   "outputs": [],
   "source": [
    "import numpy as np\n",
    "import pandas as pd\n",
    "import pickle\n",
    "\n",
    "\n",
    "books = pd.read_csv('./dataset/books.csv')\n",
    "ratings = pd.read_csv('./dataset/ratings.csv')\n"
   ]
  },
  {
   "cell_type": "code",
   "execution_count": 14,
   "metadata": {},
   "outputs": [],
   "source": [
    "books = books[['id','book_id', 'authors', 'original_title', 'average_rating', 'image_url', 'ratings_count']]\n",
    "\n",
    "books.dropna(inplace=True)\n"
   ]
  },
  {
   "cell_type": "code",
   "execution_count": 15,
   "metadata": {},
   "outputs": [],
   "source": [
    "books['popularity'] = books['average_rating'] * books['ratings_count']"
   ]
  },
  {
   "cell_type": "code",
   "execution_count": 16,
   "metadata": {},
   "outputs": [],
   "source": [
    "books['info'] = books['authors'] + books['original_title']\n"
   ]
  },
  {
   "cell_type": "code",
   "execution_count": 17,
   "metadata": {},
   "outputs": [],
   "source": [
    "# Ratings modified for merging\n",
    "\n",
    "ratings = pd.merge(books, ratings)\n",
    "ratings = ratings[['original_title', 'user_id', 'rating', 'popularity', 'book_id', 'image_url']]"
   ]
  },
  {
   "cell_type": "markdown",
   "metadata": {},
   "source": [
    "### Vectorize the inputs here "
   ]
  },
  {
   "cell_type": "code",
   "execution_count": 18,
   "metadata": {},
   "outputs": [],
   "source": [
    "from sklearn.feature_extraction.text import CountVectorizer\n",
    "cv = CountVectorizer (max_features=5000, stop_words='english')\n"
   ]
  },
  {
   "cell_type": "code",
   "execution_count": 19,
   "metadata": {},
   "outputs": [
    {
     "data": {
      "text/plain": [
       "array(['000', '10', '100', ..., 'ワンダーランド', '春樹1q84', '村上'], dtype=object)"
      ]
     },
     "execution_count": 19,
     "metadata": {},
     "output_type": "execute_result"
    }
   ],
   "source": [
    "vector = cv.fit_transform(books['info']).toarray()\n",
    "cv.get_feature_names_out()"
   ]
  },
  {
   "cell_type": "code",
   "execution_count": 20,
   "metadata": {},
   "outputs": [],
   "source": [
    "from nltk.stem.porter import PorterStemmer\n",
    "\n",
    "ps = PorterStemmer()"
   ]
  },
  {
   "cell_type": "code",
   "execution_count": 21,
   "metadata": {},
   "outputs": [],
   "source": [
    "from sklearn.metrics.pairwise import cosine_similarity\n",
    "\n",
    "similarity = cosine_similarity(vector)"
   ]
  },
  {
   "cell_type": "markdown",
   "metadata": {},
   "source": [
    "## Main function"
   ]
  },
  {
   "cell_type": "code",
   "execution_count": 22,
   "metadata": {},
   "outputs": [],
   "source": [
    "# Similar books retrieval\n",
    "def similar_books(book):\n",
    "    book_index = books[books['original_title'] == book].index[0]\n",
    "    print('Book index', book_index)\n",
    "    distances = similarity[book_index]\n",
    "    print(distances)\n",
    "    movies_list = sorted(list(enumerate(distances)), reverse = True, key = lambda x : x[1])[:5]\n",
    "    # print(movies_list)\n",
    "    for i in movies_list:\n",
    "        print(books.iloc[i[0]].original_title)\n",
    "# Popular books\n",
    "def popularity_based_rec(df, group_col, rating_col):\n",
    "    grouped = df.groupby(group_col).agg({rating_col: [np.size, np.sum, np.mean]})\n",
    "    popular = grouped.sort_values((rating_col, \"mean\"), ascending = False)\n",
    "    total_sum = grouped[rating_col][\"sum\"].sum()\n",
    "    popular[\"percentage\"] = popular[rating_col][\"sum\"].div(total_sum) * 100\n",
    "\n",
    "    return popular.sort_values((\"percentage\"), ascending = False)[:10]"
   ]
  },
  {
   "cell_type": "code",
   "execution_count": 31,
   "metadata": {},
   "outputs": [
    {
     "name": "stdout",
     "output_type": "stream",
     "text": [
      "(10, 4)\n"
     ]
    },
    {
     "name": "stderr",
     "output_type": "stream",
     "text": [
      "C:\\Users\\Bemnet Aschalew\\AppData\\Local\\Temp\\ipykernel_1652\\2802349428.py:14: FutureWarning: The provided callable <function sum at 0x00000227F15544A0> is currently using SeriesGroupBy.sum. In a future version of pandas, the provided callable will be used directly. To keep current behavior pass the string \"sum\" instead.\n",
      "  grouped = df.groupby(group_col).agg({rating_col: [np.size, np.sum, np.mean]})\n",
      "C:\\Users\\Bemnet Aschalew\\AppData\\Local\\Temp\\ipykernel_1652\\2802349428.py:14: FutureWarning: The provided callable <function mean at 0x00000227F1555580> is currently using SeriesGroupBy.mean. In a future version of pandas, the provided callable will be used directly. To keep current behavior pass the string \"mean\" instead.\n",
      "  grouped = df.groupby(group_col).agg({rating_col: [np.size, np.sum, np.mean]})\n"
     ]
    }
   ],
   "source": [
    "popularity_stats = popularity_based_rec(ratings, \"original_title\", \"popularity\")\n",
    "# print(popularity_stats.shape)\n",
    "popularity_stats.head()"
   ]
  },
  {
   "cell_type": "code",
   "execution_count": 24,
   "metadata": {},
   "outputs": [],
   "source": [
    "pickle.dump(books.to_dict(), open('./dataset/books_dict.pkl','wb'))\n",
    "pickle.dump(similarity,open('./dataset/similarity.pkl','wb'))\n",
    "pickle.dump(ratings.to_dict(), open('./dataset/popularity.pkl', 'wb'))"
   ]
  }
 ],
 "metadata": {
  "kernelspec": {
   "display_name": "Python 3",
   "language": "python",
   "name": "python3"
  },
  "language_info": {
   "codemirror_mode": {
    "name": "ipython",
    "version": 3
   },
   "file_extension": ".py",
   "mimetype": "text/x-python",
   "name": "python",
   "nbconvert_exporter": "python",
   "pygments_lexer": "ipython3",
   "version": "3.12.3"
  }
 },
 "nbformat": 4,
 "nbformat_minor": 2
}
